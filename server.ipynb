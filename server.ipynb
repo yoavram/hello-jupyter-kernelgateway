{
 "cells": [
  {
   "cell_type": "code",
   "execution_count": 2,
   "metadata": {
    "collapsed": false
   },
   "outputs": [],
   "source": [
    "import pandas as pd\n",
    "import json"
   ]
  },
  {
   "cell_type": "code",
   "execution_count": 3,
   "metadata": {
    "collapsed": false
   },
   "outputs": [
    {
     "data": {
      "text/html": [
       "<div>\n",
       "<table border=\"1\" class=\"dataframe\">\n",
       "  <thead>\n",
       "    <tr style=\"text-align: right;\">\n",
       "      <th></th>\n",
       "      <th>_id</th>\n",
       "      <th>datetime</th>\n",
       "      <th>day</th>\n",
       "      <th>destinationPlace_label</th>\n",
       "      <th>destinationPlace_lon</th>\n",
       "      <th>destinationPlace_lat</th>\n",
       "      <th>destinationPlace_name</th>\n",
       "      <th>sourcePlace_label</th>\n",
       "      <th>sourcePlace_lon</th>\n",
       "      <th>sourcePlace_lat</th>\n",
       "      <th>sourcePlace_name</th>\n",
       "      <th>time</th>\n",
       "      <th>tz</th>\n",
       "      <th>userId</th>\n",
       "    </tr>\n",
       "  </thead>\n",
       "  <tbody>\n",
       "    <tr>\n",
       "      <th>0</th>\n",
       "      <td>5534cc8e3004b4858e545552</td>\n",
       "      <td>2015-02-01 07:49:00+02:00</td>\n",
       "      <td>6</td>\n",
       "      <td>NaN</td>\n",
       "      <td>34.814528</td>\n",
       "      <td>32.165983</td>\n",
       "      <td>Neura Labs</td>\n",
       "      <td>NaN</td>\n",
       "      <td>34.815325</td>\n",
       "      <td>32.190265</td>\n",
       "      <td>Home</td>\n",
       "      <td>469</td>\n",
       "      <td>Asia/Jerusalem</td>\n",
       "      <td>35</td>\n",
       "    </tr>\n",
       "    <tr>\n",
       "      <th>1</th>\n",
       "      <td>5534cc8e3004b4858e545553</td>\n",
       "      <td>2015-02-01 15:04:00+02:00</td>\n",
       "      <td>6</td>\n",
       "      <td>NaN</td>\n",
       "      <td>34.814528</td>\n",
       "      <td>32.165983</td>\n",
       "      <td>Neura Labs</td>\n",
       "      <td>NaN</td>\n",
       "      <td>34.814528</td>\n",
       "      <td>32.165983</td>\n",
       "      <td>Neura Labs</td>\n",
       "      <td>904</td>\n",
       "      <td>Asia/Jerusalem</td>\n",
       "      <td>35</td>\n",
       "    </tr>\n",
       "    <tr>\n",
       "      <th>2</th>\n",
       "      <td>5534cc8e3004b4858e545554</td>\n",
       "      <td>2015-02-01 21:52:00+02:00</td>\n",
       "      <td>6</td>\n",
       "      <td>NaN</td>\n",
       "      <td>34.815224</td>\n",
       "      <td>32.190367</td>\n",
       "      <td>Home</td>\n",
       "      <td>NaN</td>\n",
       "      <td>34.814528</td>\n",
       "      <td>32.165983</td>\n",
       "      <td>Neura Labs</td>\n",
       "      <td>1312</td>\n",
       "      <td>Asia/Jerusalem</td>\n",
       "      <td>35</td>\n",
       "    </tr>\n",
       "    <tr>\n",
       "      <th>3</th>\n",
       "      <td>5534cc903004b4858e545555</td>\n",
       "      <td>2015-02-02 01:37:00+02:00</td>\n",
       "      <td>0</td>\n",
       "      <td>NaN</td>\n",
       "      <td>34.815325</td>\n",
       "      <td>32.190265</td>\n",
       "      <td>Home</td>\n",
       "      <td>NaN</td>\n",
       "      <td>34.815224</td>\n",
       "      <td>32.190367</td>\n",
       "      <td>Home</td>\n",
       "      <td>97</td>\n",
       "      <td>Asia/Jerusalem</td>\n",
       "      <td>35</td>\n",
       "    </tr>\n",
       "    <tr>\n",
       "      <th>4</th>\n",
       "      <td>5534cc903004b4858e545556</td>\n",
       "      <td>2015-02-02 08:44:00+02:00</td>\n",
       "      <td>0</td>\n",
       "      <td>NaN</td>\n",
       "      <td>34.814528</td>\n",
       "      <td>32.165983</td>\n",
       "      <td>Neura Labs</td>\n",
       "      <td>NaN</td>\n",
       "      <td>34.815325</td>\n",
       "      <td>32.190265</td>\n",
       "      <td>Home</td>\n",
       "      <td>524</td>\n",
       "      <td>Asia/Jerusalem</td>\n",
       "      <td>35</td>\n",
       "    </tr>\n",
       "  </tbody>\n",
       "</table>\n",
       "</div>"
      ],
      "text/plain": [
       "                        _id                   datetime  day  \\\n",
       "0  5534cc8e3004b4858e545552  2015-02-01 07:49:00+02:00    6   \n",
       "1  5534cc8e3004b4858e545553  2015-02-01 15:04:00+02:00    6   \n",
       "2  5534cc8e3004b4858e545554  2015-02-01 21:52:00+02:00    6   \n",
       "3  5534cc903004b4858e545555  2015-02-02 01:37:00+02:00    0   \n",
       "4  5534cc903004b4858e545556  2015-02-02 08:44:00+02:00    0   \n",
       "\n",
       "  destinationPlace_label  destinationPlace_lon  destinationPlace_lat  \\\n",
       "0                    NaN             34.814528             32.165983   \n",
       "1                    NaN             34.814528             32.165983   \n",
       "2                    NaN             34.815224             32.190367   \n",
       "3                    NaN             34.815325             32.190265   \n",
       "4                    NaN             34.814528             32.165983   \n",
       "\n",
       "  destinationPlace_name sourcePlace_label  sourcePlace_lon  sourcePlace_lat  \\\n",
       "0            Neura Labs               NaN        34.815325        32.190265   \n",
       "1            Neura Labs               NaN        34.814528        32.165983   \n",
       "2                  Home               NaN        34.814528        32.165983   \n",
       "3                  Home               NaN        34.815224        32.190367   \n",
       "4            Neura Labs               NaN        34.815325        32.190265   \n",
       "\n",
       "  sourcePlace_name  time              tz  userId  \n",
       "0             Home   469  Asia/Jerusalem      35  \n",
       "1       Neura Labs   904  Asia/Jerusalem      35  \n",
       "2       Neura Labs  1312  Asia/Jerusalem      35  \n",
       "3             Home    97  Asia/Jerusalem      35  \n",
       "4             Home   524  Asia/Jerusalem      35  "
      ]
     },
     "execution_count": 3,
     "metadata": {},
     "output_type": "execute_result"
    }
   ],
   "source": [
    "df = pd.read_csv('train.csv')\n",
    "df.head()"
   ]
  },
  {
   "cell_type": "markdown",
   "metadata": {},
   "source": [
    "http://blog.ibmjstart.net/2016/01/28/jupyter-notebooks-as-restful-microservices/"
   ]
  },
  {
   "cell_type": "code",
   "execution_count": 4,
   "metadata": {
    "collapsed": false
   },
   "outputs": [
    {
     "name": "stdout",
     "output_type": "stream",
     "text": [
      "{\"labels\": [\"nan\", \"active_zone\", \"home\", \"work\"]}\n"
     ]
    }
   ],
   "source": [
    "# GET /labels\n",
    "s_labels = df.sourcePlace_label.unique()\n",
    "d_labels = df.destinationPlace_label.unique()\n",
    "print(json.dumps(dict(\n",
    "            labels=[str(x) for x in set(s_labels.tolist() + d_labels.tolist())]\n",
    ")))"
   ]
  },
  {
   "cell_type": "code",
   "execution_count": 6,
   "metadata": {
    "collapsed": true
   },
   "outputs": [],
   "source": [
    "REQUEST = \"{\\\"args\\\": {}, \\\"path\\\": {\\\"name\\\": \\\"yoav\\\"}, \\\"headers\\\": {\\\"Connection\\\": \\\"keep-alive\\\", \\\"Host\\\": \\\"127.0.0.1:8889\\\", \\\"Accept-Encoding\\\": \\\"gzip, deflate\\\", \\\"Accept\\\": \\\"*/*\\\", \\\"User-Agent\\\": \\\"python-requests/2.10.0\\\"}, \\\"body\\\": \\\"\\\"}\""
   ]
  },
  {
   "cell_type": "code",
   "execution_count": 7,
   "metadata": {
    "collapsed": false
   },
   "outputs": [
    {
     "name": "stdout",
     "output_type": "stream",
     "text": [
      "{\"name\": \"yoav\"}\n"
     ]
    }
   ],
   "source": [
    "# GET /bla/:name\n",
    "request = json.loads(REQUEST)\n",
    "print(json.dumps(dict(name=request['path'].get('name', 'noname'))))"
   ]
  },
  {
   "cell_type": "code",
   "execution_count": null,
   "metadata": {
    "collapsed": true
   },
   "outputs": [],
   "source": []
  }
 ],
 "metadata": {
  "kernelspec": {
   "display_name": "Neura",
   "language": "python",
   "name": "neura"
  },
  "language_info": {
   "codemirror_mode": {
    "name": "ipython",
    "version": 3
   },
   "file_extension": ".py",
   "mimetype": "text/x-python",
   "name": "python",
   "nbconvert_exporter": "python",
   "pygments_lexer": "ipython3",
   "version": "3.5.1"
  },
  "widgets": {
   "state": {},
   "version": "1.1.2"
  }
 },
 "nbformat": 4,
 "nbformat_minor": 0
}
